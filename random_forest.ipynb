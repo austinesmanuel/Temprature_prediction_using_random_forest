{
  "nbformat": 4,
  "nbformat_minor": 0,
  "metadata": {
    "colab": {
      "provenance": []
    },
    "kernelspec": {
      "name": "python3",
      "display_name": "Python 3"
    },
    "language_info": {
      "name": "python"
    }
  },
  "cells": [
    {
      "cell_type": "code",
      "source": [
        "import pandas as pd\n",
        "from sklearn.impute import KNNImputer\n",
        "from sklearn.impute import SimpleImputer\n",
        "import numpy as np\n",
        "from sklearn.model_selection import train_test_split\n",
        "from sklearn.preprocessing import StandardScaler\n",
        "from sklearn.ensemble import RandomForestRegressor\n",
        "from sklearn.metrics import mean_squared_error, mean_absolute_error"
      ],
      "metadata": {
        "id": "mTvtTaSh5o5Y"
      },
      "execution_count": null,
      "outputs": []
    },
    {
      "cell_type": "code",
      "source": [
        "# Load the CSV (replace 'your_csv.csv' with your actual file)\n",
        "df = pd.read_csv('/content/train.csv')\n",
        "# Add a serial number column\n",
        "df.insert(0, 'Serial Number', range(1, len(df) + 1))"
      ],
      "metadata": {
        "id": "U2rGQVJe60gy"
      },
      "execution_count": null,
      "outputs": []
    },
    {
      "cell_type": "code",
      "source": [
        "print(df.head())"
      ],
      "metadata": {
        "colab": {
          "base_uri": "https://localhost:8080/"
        },
        "id": "4-fp-77l-fQX",
        "outputId": "7e32cd99-a9d2-4572-d55e-25dc982ff11a"
      },
      "execution_count": null,
      "outputs": [
        {
          "output_type": "stream",
          "name": "stdout",
          "text": [
            "   Serial Number  Unnamed: 0        DATE  LATITUDE_A  LONGITUDE_A  \\\n",
            "0              1           0  01-11-1979       63.88        77.52   \n",
            "1              2           1  13-11-1979       63.88        77.52   \n",
            "2              3           2  05-02-1980       63.88        77.52   \n",
            "3              4           3  23-12-1979       63.88        77.52   \n",
            "4              5           4  07-06-1977       63.88        77.52   \n",
            "\n",
            "   ELEVATION_A  PRCP_A  SNWD_A  TMAX_A  TMIN_A  ...  LONGITUDE_C  ELEVATION_C  \\\n",
            "0          128     NaN     0.0    17.6     NaN  ...        78.93           64   \n",
            "1          128     NaN     0.0     8.8     NaN  ...        78.93           64   \n",
            "2          128     NaN     0.0    -9.9     NaN  ...        78.93           64   \n",
            "3          128     0.0     0.0     NaN   -4.30  ...        78.93           64   \n",
            "4          128     NaN     0.0    39.6   15.48  ...        78.93           64   \n",
            "\n",
            "   PRCP_C  SNWD_C  TMAX_C  TMIN_C  TAVG_C  LATITUDE  LONGITUDE  TAVG  \n",
            "0     0.0    0.00    18.7     NaN     NaN    63.933     78.733   9.3  \n",
            "1     0.0    0.00    11.0    -3.8    2.04    63.933     78.733   2.7  \n",
            "2     0.0    0.00     NaN     NaN  -16.56    63.933     78.733 -16.0  \n",
            "3     0.0    0.00     0.0     NaN   -2.64    63.933     78.733  -3.2  \n",
            "4     NaN    3.82    38.5    17.1   33.00    63.933     78.733  27.3  \n",
            "\n",
            "[5 rows x 30 columns]\n"
          ]
        }
      ]
    },
    {
      "cell_type": "code",
      "source": [
        "# Split the date into day, month, and year\n",
        "df['Date'] = pd.to_datetime(df['DATE'], dayfirst=True)\n",
        "df['Day'] = df['Date'].dt.day\n",
        "df['Month'] = df['Date'].dt.month\n",
        "df['Year'] = df['Date'].dt.year\n",
        "\n",
        "# Drop the original date column\n",
        "df.drop('DATE', axis=1, inplace=True)\n",
        "# Sort the dataset using day, month, and year\n",
        "df.sort_values(by=['Year', 'Month', 'Day'], inplace=True)\n",
        "df.drop(['Date', 'Unnamed: 0'], axis=1, inplace=True)"
      ],
      "metadata": {
        "id": "09Az1Eh968cy"
      },
      "execution_count": null,
      "outputs": []
    },
    {
      "cell_type": "code",
      "source": [
        "print(df.head())"
      ],
      "metadata": {
        "colab": {
          "base_uri": "https://localhost:8080/"
        },
        "id": "Vfivv_6b-vKK",
        "outputId": "f0cac270-e3da-4182-e23e-01a24de60185"
      },
      "execution_count": null,
      "outputs": [
        {
          "output_type": "stream",
          "name": "stdout",
          "text": [
            "     Serial Number  LATITUDE_A  LONGITUDE_A  ELEVATION_A  PRCP_A  SNWD_A  \\\n",
            "147            148       63.88        77.52          128     NaN    0.00   \n",
            "641            642       63.88        77.52          128     NaN    0.00   \n",
            "332            333       63.88        77.52          128     0.0    2.89   \n",
            "163            164       63.88        77.52          128     NaN    0.00   \n",
            "243            244       63.88        77.52          128     NaN    0.00   \n",
            "\n",
            "     TMAX_A  TMIN_A  TAVG_A  LATITUDE_B  ...  SNWD_C  TMAX_C  TMIN_C  TAVG_C  \\\n",
            "147    34.1     NaN   68.16       62.95  ...     0.0     NaN     NaN     NaN   \n",
            "641     NaN     NaN   29.40       62.95  ...     0.0     NaN     NaN    29.4   \n",
            "332    34.1     NaN   30.24       62.95  ...     0.0    36.3     NaN    33.6   \n",
            "163    24.2     NaN   15.60       62.95  ...     0.0     NaN     NaN     NaN   \n",
            "243    -2.2     NaN   -4.80       62.95  ...     0.0     NaN     NaN    -5.4   \n",
            "\n",
            "     LATITUDE  LONGITUDE  TAVG  Day  Month  Year  \n",
            "147    63.933     78.733  24.7    9      8  1974  \n",
            "641    63.933     78.733  24.8   10      8  1974  \n",
            "332    63.933     78.733  24.8   11      8  1974  \n",
            "163    63.933     78.733  15.7    6     10  1974  \n",
            "243    63.933     78.733  -4.2   28      1  1975  \n",
            "\n",
            "[5 rows x 31 columns]\n"
          ]
        }
      ]
    },
    {
      "cell_type": "code",
      "source": [
        "# Impute missing values\n",
        "imputer = KNNImputer(n_neighbors=5)\n",
        "df_train_imputed_numeric = pd.DataFrame(imputer.fit_transform(df), columns=df.columns)"
      ],
      "metadata": {
        "id": "4FBfFJaN65nj"
      },
      "execution_count": null,
      "outputs": []
    },
    {
      "cell_type": "code",
      "source": [
        "print(df_train_imputed_numeric.head())"
      ],
      "metadata": {
        "colab": {
          "base_uri": "https://localhost:8080/"
        },
        "id": "hZQZckXE-6jR",
        "outputId": "2831e5f9-0b7d-4166-c989-b7aa07c46d2c"
      },
      "execution_count": null,
      "outputs": [
        {
          "output_type": "stream",
          "name": "stdout",
          "text": [
            "   Serial Number  LATITUDE_A  LONGITUDE_A  ELEVATION_A  PRCP_A  SNWD_A  \\\n",
            "0          148.0       63.88        77.52        128.0     0.0    0.00   \n",
            "1          642.0       63.88        77.52        128.0     0.0    0.00   \n",
            "2          333.0       63.88        77.52        128.0     0.0    2.89   \n",
            "3          164.0       63.88        77.52        128.0     0.0    0.00   \n",
            "4          244.0       63.88        77.52        128.0     0.0    0.00   \n",
            "\n",
            "   TMAX_A  TMIN_A  TAVG_A  LATITUDE_B  ...  SNWD_C  TMAX_C  TMIN_C  TAVG_C  \\\n",
            "0   34.10  12.900   68.16       62.95  ...     0.0  34.760  19.856  27.072   \n",
            "1   37.18  22.360   29.40       62.95  ...     0.0  51.436  14.630  29.400   \n",
            "2   34.10  30.600   30.24       62.95  ...     0.0  36.300  17.480  33.600   \n",
            "3   24.20  14.826   15.60       62.95  ...     0.0  30.140  11.590  19.992   \n",
            "4   -2.20  -4.438   -4.80       62.95  ...     0.0   6.842  -3.478  -5.400   \n",
            "\n",
            "   LATITUDE  LONGITUDE  TAVG   Day  Month    Year  \n",
            "0    63.933     78.733  24.7   9.0    8.0  1974.0  \n",
            "1    63.933     78.733  24.8  10.0    8.0  1974.0  \n",
            "2    63.933     78.733  24.8  11.0    8.0  1974.0  \n",
            "3    63.933     78.733  15.7   6.0   10.0  1974.0  \n",
            "4    63.933     78.733  -4.2  28.0    1.0  1975.0  \n",
            "\n",
            "[5 rows x 31 columns]\n"
          ]
        }
      ]
    },
    {
      "cell_type": "code",
      "source": [
        "# Sort back to the original order using the serial number\n",
        "df_train_imputed_numeric.sort_values(by='Serial Number', inplace=True)\n",
        "df_train_imputed_numeric.drop('Serial Number', axis=1, inplace=True)"
      ],
      "metadata": {
        "id": "de6SgnvG7Dj6"
      },
      "execution_count": null,
      "outputs": []
    },
    {
      "cell_type": "code",
      "source": [
        "print(df_train_imputed_numeric.head())"
      ],
      "metadata": {
        "colab": {
          "base_uri": "https://localhost:8080/"
        },
        "id": "_AYUcHvc_I6r",
        "outputId": "4d2930c0-ef24-40b3-bc1b-49cb2faad305"
      },
      "execution_count": null,
      "outputs": [
        {
          "output_type": "stream",
          "name": "stdout",
          "text": [
            "     LATITUDE_A  LONGITUDE_A  ELEVATION_A  PRCP_A  SNWD_A  TMAX_A  TMIN_A  \\\n",
            "669       63.88        77.52        128.0     0.0     0.0    17.6  16.546   \n",
            "675       63.88        77.52        128.0     0.0     0.0     8.8  -2.512   \n",
            "716       63.88        77.52        128.0     0.0     0.0    -9.9  -3.028   \n",
            "691       63.88        77.52        128.0     0.0     0.0     3.3  -4.300   \n",
            "247       63.88        77.52        128.0     0.0     0.0    39.6  15.480   \n",
            "\n",
            "     TAVG_A  LATITUDE_B  LONGITUDE_B  ...  SNWD_C  TMAX_C  TMIN_C  TAVG_C  \\\n",
            "669  12.960       62.95        79.82  ...    0.00   18.70   1.520  19.344   \n",
            "675   0.000       62.95        79.82  ...    0.00   11.00  -3.800   2.040   \n",
            "716 -17.760       62.95        79.82  ...    0.00   -2.64  -1.938 -16.560   \n",
            "691  -4.440       62.95        79.82  ...    0.00    0.00   8.038  -2.640   \n",
            "247  38.616       62.95        79.82  ...    3.82   38.50  17.100  33.000   \n",
            "\n",
            "     LATITUDE  LONGITUDE  TAVG   Day  Month    Year  \n",
            "669    63.933     78.733   9.3   1.0   11.0  1979.0  \n",
            "675    63.933     78.733   2.7  13.0   11.0  1979.0  \n",
            "716    63.933     78.733 -16.0   5.0    2.0  1980.0  \n",
            "691    63.933     78.733  -3.2  23.0   12.0  1979.0  \n",
            "247    63.933     78.733  27.3   7.0    6.0  1977.0  \n",
            "\n",
            "[5 rows x 30 columns]\n"
          ]
        }
      ]
    },
    {
      "cell_type": "code",
      "source": [
        "# Save the imputed training data\n",
        "output_file_path = '/content/knn_and_sorted_train.csv'\n",
        "df_train_imputed_numeric.to_csv(output_file_path, index=False, index_label='INDEX')"
      ],
      "metadata": {
        "id": "hRKpQq8h7GOu"
      },
      "execution_count": null,
      "outputs": []
    },
    {
      "cell_type": "code",
      "source": [
        "# Load and process test CSV\n",
        "df = pd.read_csv('/content/test.csv')"
      ],
      "metadata": {
        "id": "_q8UDY007MF4"
      },
      "execution_count": null,
      "outputs": []
    },
    {
      "cell_type": "code",
      "source": [
        "print(df.head())"
      ],
      "metadata": {
        "colab": {
          "base_uri": "https://localhost:8080/"
        },
        "id": "I7hBp6V5_6dT",
        "outputId": "6d150592-3755-4a34-b1cb-b1f54fd0074e"
      },
      "execution_count": null,
      "outputs": [
        {
          "output_type": "stream",
          "name": "stdout",
          "text": [
            "   INDEX        DATE  LATITUDE_A  LONGITUDE_A  ELEVATION_A  PRCP_A  SNWD_A  \\\n",
            "0      0  04-11-1978      63.883       77.517          128     0.0     0.0   \n",
            "1      1  11-04-1980      63.883       77.517          128     NaN     0.0   \n",
            "2      2  29-04-1977      63.883       77.517          128     NaN     0.0   \n",
            "3      3  12-10-1977      63.883       77.517          128     0.0     0.0   \n",
            "4      4  02-09-1980      63.883       77.517          128     NaN     0.0   \n",
            "\n",
            "   TMAX_A  TMIN_A  TAVG_A  ...  LATITUDE_C  LONGITUDE_C  ELEVATION_C  PRCP_C  \\\n",
            "0     5.0     NaN     2.3  ...      63.083       78.933           64     NaN   \n",
            "1     NaN     NaN     9.3  ...      63.083       78.933           64     0.0   \n",
            "2     NaN     NaN    18.0  ...      63.083       78.933           64     0.0   \n",
            "3    16.0     NaN     9.8  ...      63.083       78.933           64     0.0   \n",
            "4    29.0    10.0    18.8  ...      63.083       78.933           64   500.0   \n",
            "\n",
            "   SNWD_C  TMAX_C  TMIN_C  TAVG_C  LATITUDE  LONGITUDE  \n",
            "0    0.00     8.0     NaN     3.0    63.933     78.733  \n",
            "1    0.00    28.0     8.0    15.0    63.933     78.733  \n",
            "2    2.89    30.0     NaN    15.8    63.933     78.733  \n",
            "3    0.00    19.0     NaN    12.4    63.933     78.733  \n",
            "4    0.00    30.0     NaN    21.4    63.933     78.733  \n",
            "\n",
            "[5 rows x 28 columns]\n"
          ]
        }
      ]
    },
    {
      "cell_type": "code",
      "source": [
        "# Add a serial number column\n",
        "df.insert(0, 'Serial Number', range(1, len(df) + 1))\n",
        "\n",
        "# Split the date into day, month, and year\n",
        "df['Date'] = pd.to_datetime(df['DATE'], dayfirst=True)\n",
        "df['Day'] = df['Date'].dt.day\n",
        "df['Month'] = df['Date'].dt.month\n",
        "df['Year'] = df['Date'].dt.year\n",
        "\n",
        "# Drop the original date column\n",
        "df.drop('DATE', axis=1, inplace=True)\n",
        "# Sort the dataset using day, month, and year\n",
        "df.sort_values(by=['Year', 'Month', 'Day'], inplace=True)\n",
        "df.drop(['Date'], axis=1, inplace=True)\n",
        "\n",
        "# Impute missing values\n",
        "imputer = KNNImputer(n_neighbors=5)\n",
        "df_test_imputed_numeric = pd.DataFrame(imputer.fit_transform(df), columns=df.columns)\n",
        "\n",
        "# Sort back to the original order using the serial number\n",
        "df_test_imputed_numeric.sort_values(by='Serial Number', inplace=True)\n",
        "df_test_imputed_numeric.drop(['Serial Number', 'INDEX'], axis=1, inplace=True)"
      ],
      "metadata": {
        "id": "IKqxxB2I7VPH"
      },
      "execution_count": null,
      "outputs": []
    },
    {
      "cell_type": "code",
      "source": [
        "print(df_test_imputed_numeric.head())"
      ],
      "metadata": {
        "colab": {
          "base_uri": "https://localhost:8080/"
        },
        "id": "wRrcI6QZAN0T",
        "outputId": "d3b06ecf-818b-4c1a-b696-f6dc1742c77f"
      },
      "execution_count": null,
      "outputs": [
        {
          "output_type": "stream",
          "name": "stdout",
          "text": [
            "     LATITUDE_A  LONGITUDE_A  ELEVATION_A  PRCP_A  SNWD_A  TMAX_A  TMIN_A  \\\n",
            "117      63.883       77.517        128.0     0.0     0.0     5.0     2.8   \n",
            "187      63.883       77.517        128.0     0.0     0.0    23.4    11.8   \n",
            "51       63.883       77.517        128.0     0.0     0.0    23.2    11.8   \n",
            "67       63.883       77.517        128.0     0.0     0.0    16.0    11.8   \n",
            "202      63.883       77.517        128.0     1.0     0.0    29.0    10.0   \n",
            "\n",
            "     TAVG_A  LATITUDE_B  LONGITUDE_B  ...  PRCP_C  SNWD_C  TMAX_C  TMIN_C  \\\n",
            "117     2.3       62.95      79.8167  ...     0.0    0.00     8.0     0.6   \n",
            "187     9.3       62.95      79.8167  ...     0.0    0.00    28.0     8.0   \n",
            "51     18.0       62.95      79.8167  ...     0.0    2.89    30.0    10.4   \n",
            "67      9.8       62.95      79.8167  ...     0.0    0.00    19.0     6.8   \n",
            "202    18.8       62.95      79.8167  ...   500.0    0.00    30.0    11.6   \n",
            "\n",
            "     TAVG_C  LATITUDE  LONGITUDE   Day  Month    Year  \n",
            "117     3.0    63.933     78.733   4.0   11.0  1978.0  \n",
            "187    15.0    63.933     78.733  11.0    4.0  1980.0  \n",
            "51     15.8    63.933     78.733  29.0    4.0  1977.0  \n",
            "67     12.4    63.933     78.733  12.0   10.0  1977.0  \n",
            "202    21.4    63.933     78.733   2.0    9.0  1980.0  \n",
            "\n",
            "[5 rows x 29 columns]\n"
          ]
        }
      ]
    },
    {
      "cell_type": "code",
      "source": [
        "# Save the imputed test data\n",
        "output_file_path = '/content/knn_and_sorted_test.csv'\n",
        "df_test_imputed_numeric.to_csv(output_file_path, index=False, index_label='INDEX')"
      ],
      "metadata": {
        "id": "G5vZdFn07ZWB"
      },
      "execution_count": null,
      "outputs": []
    },
    {
      "cell_type": "code",
      "source": [
        "# Load the imputed training data\n",
        "train_file_path = '/content/knn_and_sorted_train.csv'\n",
        "df_train = pd.read_csv(train_file_path)"
      ],
      "metadata": {
        "id": "JbnYEe9O7gJ6"
      },
      "execution_count": null,
      "outputs": []
    },
    {
      "cell_type": "code",
      "source": [
        "# Feature Engineering\n",
        "def haversine(lat1, lon1, lat2, lon2):\n",
        "    R = 6371  # Radius of Earth in kilometers\n",
        "    lat1, lon1, lat2, lon2 = np.radians([lat1, lon1, lat2, lon2])\n",
        "    dlat = lat2 - lat1\n",
        "    dlon = lon2 - lon1\n",
        "    a = np.sin(dlat / 2) * 2 + np.cos(lat1) * np.cos(lat2) * np.sin(dlon / 2) * 2\n",
        "    return 2 * R * np.arcsin(np.sqrt(a))\n",
        "\n",
        "df_train['DIST_A'] = haversine(df_train['LATITUDE'], df_train['LONGITUDE'], df_train['LATITUDE_A'], df_train['LONGITUDE_A'])\n",
        "df_train['DIST_B'] = haversine(df_train['LATITUDE'], df_train['LONGITUDE'], df_train['LATITUDE_B'], df_train['LONGITUDE_B'])\n",
        "df_train['DIST_C'] = haversine(df_train['LATITUDE'], df_train['LONGITUDE'], df_train['LATITUDE_C'], df_train['LONGITUDE_C'])\n",
        "\n",
        "# Define the feature set and target for training data\n",
        "y_train = df_train['TAVG']\n",
        "df_train.drop(['TAVG'], axis=1, inplace=True)\n",
        "X_train = df_train"
      ],
      "metadata": {
        "colab": {
          "base_uri": "https://localhost:8080/"
        },
        "id": "cs2eSaG87mk_",
        "outputId": "16fd5baa-93c9-4563-fd45-9d87b3c9d6e2"
      },
      "execution_count": null,
      "outputs": [
        {
          "output_type": "stream",
          "name": "stderr",
          "text": [
            "<ipython-input-47-22390d784fd5>:8: RuntimeWarning: invalid value encountered in sqrt\n",
            "  return 2 * R * np.arcsin(np.sqrt(a))\n",
            "<ipython-input-47-22390d784fd5>:8: RuntimeWarning: invalid value encountered in sqrt\n",
            "  return 2 * R * np.arcsin(np.sqrt(a))\n",
            "<ipython-input-47-22390d784fd5>:8: RuntimeWarning: invalid value encountered in sqrt\n",
            "  return 2 * R * np.arcsin(np.sqrt(a))\n"
          ]
        }
      ]
    },
    {
      "cell_type": "code",
      "source": [
        "# Split data into training and validation sets\n",
        "X_train, X_val, y_train, y_val = train_test_split(X_train, y_train, test_size=0.2, random_state=42)"
      ],
      "metadata": {
        "id": "cKFCvV4q7ovy"
      },
      "execution_count": null,
      "outputs": []
    },
    {
      "cell_type": "code",
      "source": [
        "# Feature scaling\n",
        "scaler = StandardScaler()\n",
        "X_train_scaled = scaler.fit_transform(X_train)\n",
        "X_val_scaled = scaler.transform(X_val)"
      ],
      "metadata": {
        "colab": {
          "base_uri": "https://localhost:8080/"
        },
        "id": "Wl3xmiAV7pzV",
        "outputId": "db983dd7-4d8d-447a-c120-226b362593ab"
      },
      "execution_count": null,
      "outputs": [
        {
          "output_type": "stream",
          "name": "stderr",
          "text": [
            "/usr/local/lib/python3.10/dist-packages/sklearn/utils/extmath.py:1137: RuntimeWarning: invalid value encountered in divide\n",
            "  updated_mean = (last_sum + new_sum) / updated_sample_count\n",
            "/usr/local/lib/python3.10/dist-packages/sklearn/utils/extmath.py:1142: RuntimeWarning: invalid value encountered in divide\n",
            "  T = new_sum / new_sample_count\n",
            "/usr/local/lib/python3.10/dist-packages/sklearn/utils/extmath.py:1162: RuntimeWarning: invalid value encountered in divide\n",
            "  new_unnormalized_variance -= correction**2 / new_sample_count\n"
          ]
        }
      ]
    },
    {
      "cell_type": "code",
      "source": [
        "# Initialize and train the RandomForestRegressor\n",
        "rf_model = RandomForestRegressor(\n",
        "    n_estimators=723,\n",
        "    criterion=\"squared_error\",\n",
        "    max_depth=22,\n",
        "    min_samples_split=2,\n",
        "    min_samples_leaf=1,\n",
        "    min_weight_fraction_leaf=0.0,\n",
        "    max_features=None,\n",
        "    max_leaf_nodes=None,\n",
        "    min_impurity_decrease=0.0,\n",
        "    bootstrap=True,\n",
        "    oob_score=False,\n",
        "    n_jobs=None,\n",
        "    random_state=42,\n",
        "    verbose=1,\n",
        "    warm_start=False,\n",
        "    ccp_alpha=0.0,\n",
        "    max_samples=None)\n",
        "rf_model.fit(X_train_scaled, y_train)"
      ],
      "metadata": {
        "colab": {
          "base_uri": "https://localhost:8080/",
          "height": 150
        },
        "id": "8V4SazVr7tPZ",
        "outputId": "a74a9a69-0b7f-4918-8f6f-cd852eb36233"
      },
      "execution_count": null,
      "outputs": [
        {
          "output_type": "stream",
          "name": "stderr",
          "text": [
            "[Parallel(n_jobs=1)]: Done  49 tasks      | elapsed:    0.3s\n",
            "[Parallel(n_jobs=1)]: Done 199 tasks      | elapsed:    1.3s\n",
            "[Parallel(n_jobs=1)]: Done 449 tasks      | elapsed:    2.8s\n"
          ]
        },
        {
          "output_type": "execute_result",
          "data": {
            "text/plain": [
              "RandomForestRegressor(max_depth=22, max_features=None, n_estimators=723,\n",
              "                      random_state=42, verbose=1)"
            ],
            "text/html": [
              "<style>#sk-container-id-2 {\n",
              "  /* Definition of color scheme common for light and dark mode */\n",
              "  --sklearn-color-text: black;\n",
              "  --sklearn-color-line: gray;\n",
              "  /* Definition of color scheme for unfitted estimators */\n",
              "  --sklearn-color-unfitted-level-0: #fff5e6;\n",
              "  --sklearn-color-unfitted-level-1: #f6e4d2;\n",
              "  --sklearn-color-unfitted-level-2: #ffe0b3;\n",
              "  --sklearn-color-unfitted-level-3: chocolate;\n",
              "  /* Definition of color scheme for fitted estimators */\n",
              "  --sklearn-color-fitted-level-0: #f0f8ff;\n",
              "  --sklearn-color-fitted-level-1: #d4ebff;\n",
              "  --sklearn-color-fitted-level-2: #b3dbfd;\n",
              "  --sklearn-color-fitted-level-3: cornflowerblue;\n",
              "\n",
              "  /* Specific color for light theme */\n",
              "  --sklearn-color-text-on-default-background: var(--sg-text-color, var(--theme-code-foreground, var(--jp-content-font-color1, black)));\n",
              "  --sklearn-color-background: var(--sg-background-color, var(--theme-background, var(--jp-layout-color0, white)));\n",
              "  --sklearn-color-border-box: var(--sg-text-color, var(--theme-code-foreground, var(--jp-content-font-color1, black)));\n",
              "  --sklearn-color-icon: #696969;\n",
              "\n",
              "  @media (prefers-color-scheme: dark) {\n",
              "    /* Redefinition of color scheme for dark theme */\n",
              "    --sklearn-color-text-on-default-background: var(--sg-text-color, var(--theme-code-foreground, var(--jp-content-font-color1, white)));\n",
              "    --sklearn-color-background: var(--sg-background-color, var(--theme-background, var(--jp-layout-color0, #111)));\n",
              "    --sklearn-color-border-box: var(--sg-text-color, var(--theme-code-foreground, var(--jp-content-font-color1, white)));\n",
              "    --sklearn-color-icon: #878787;\n",
              "  }\n",
              "}\n",
              "\n",
              "#sk-container-id-2 {\n",
              "  color: var(--sklearn-color-text);\n",
              "}\n",
              "\n",
              "#sk-container-id-2 pre {\n",
              "  padding: 0;\n",
              "}\n",
              "\n",
              "#sk-container-id-2 input.sk-hidden--visually {\n",
              "  border: 0;\n",
              "  clip: rect(1px 1px 1px 1px);\n",
              "  clip: rect(1px, 1px, 1px, 1px);\n",
              "  height: 1px;\n",
              "  margin: -1px;\n",
              "  overflow: hidden;\n",
              "  padding: 0;\n",
              "  position: absolute;\n",
              "  width: 1px;\n",
              "}\n",
              "\n",
              "#sk-container-id-2 div.sk-dashed-wrapped {\n",
              "  border: 1px dashed var(--sklearn-color-line);\n",
              "  margin: 0 0.4em 0.5em 0.4em;\n",
              "  box-sizing: border-box;\n",
              "  padding-bottom: 0.4em;\n",
              "  background-color: var(--sklearn-color-background);\n",
              "}\n",
              "\n",
              "#sk-container-id-2 div.sk-container {\n",
              "  /* jupyter's `normalize.less` sets `[hidden] { display: none; }`\n",
              "     but bootstrap.min.css set `[hidden] { display: none !important; }`\n",
              "     so we also need the `!important` here to be able to override the\n",
              "     default hidden behavior on the sphinx rendered scikit-learn.org.\n",
              "     See: https://github.com/scikit-learn/scikit-learn/issues/21755 */\n",
              "  display: inline-block !important;\n",
              "  position: relative;\n",
              "}\n",
              "\n",
              "#sk-container-id-2 div.sk-text-repr-fallback {\n",
              "  display: none;\n",
              "}\n",
              "\n",
              "div.sk-parallel-item,\n",
              "div.sk-serial,\n",
              "div.sk-item {\n",
              "  /* draw centered vertical line to link estimators */\n",
              "  background-image: linear-gradient(var(--sklearn-color-text-on-default-background), var(--sklearn-color-text-on-default-background));\n",
              "  background-size: 2px 100%;\n",
              "  background-repeat: no-repeat;\n",
              "  background-position: center center;\n",
              "}\n",
              "\n",
              "/* Parallel-specific style estimator block */\n",
              "\n",
              "#sk-container-id-2 div.sk-parallel-item::after {\n",
              "  content: \"\";\n",
              "  width: 100%;\n",
              "  border-bottom: 2px solid var(--sklearn-color-text-on-default-background);\n",
              "  flex-grow: 1;\n",
              "}\n",
              "\n",
              "#sk-container-id-2 div.sk-parallel {\n",
              "  display: flex;\n",
              "  align-items: stretch;\n",
              "  justify-content: center;\n",
              "  background-color: var(--sklearn-color-background);\n",
              "  position: relative;\n",
              "}\n",
              "\n",
              "#sk-container-id-2 div.sk-parallel-item {\n",
              "  display: flex;\n",
              "  flex-direction: column;\n",
              "}\n",
              "\n",
              "#sk-container-id-2 div.sk-parallel-item:first-child::after {\n",
              "  align-self: flex-end;\n",
              "  width: 50%;\n",
              "}\n",
              "\n",
              "#sk-container-id-2 div.sk-parallel-item:last-child::after {\n",
              "  align-self: flex-start;\n",
              "  width: 50%;\n",
              "}\n",
              "\n",
              "#sk-container-id-2 div.sk-parallel-item:only-child::after {\n",
              "  width: 0;\n",
              "}\n",
              "\n",
              "/* Serial-specific style estimator block */\n",
              "\n",
              "#sk-container-id-2 div.sk-serial {\n",
              "  display: flex;\n",
              "  flex-direction: column;\n",
              "  align-items: center;\n",
              "  background-color: var(--sklearn-color-background);\n",
              "  padding-right: 1em;\n",
              "  padding-left: 1em;\n",
              "}\n",
              "\n",
              "\n",
              "/* Toggleable style: style used for estimator/Pipeline/ColumnTransformer box that is\n",
              "clickable and can be expanded/collapsed.\n",
              "- Pipeline and ColumnTransformer use this feature and define the default style\n",
              "- Estimators will overwrite some part of the style using the `sk-estimator` class\n",
              "*/\n",
              "\n",
              "/* Pipeline and ColumnTransformer style (default) */\n",
              "\n",
              "#sk-container-id-2 div.sk-toggleable {\n",
              "  /* Default theme specific background. It is overwritten whether we have a\n",
              "  specific estimator or a Pipeline/ColumnTransformer */\n",
              "  background-color: var(--sklearn-color-background);\n",
              "}\n",
              "\n",
              "/* Toggleable label */\n",
              "#sk-container-id-2 label.sk-toggleable__label {\n",
              "  cursor: pointer;\n",
              "  display: block;\n",
              "  width: 100%;\n",
              "  margin-bottom: 0;\n",
              "  padding: 0.5em;\n",
              "  box-sizing: border-box;\n",
              "  text-align: center;\n",
              "}\n",
              "\n",
              "#sk-container-id-2 label.sk-toggleable__label-arrow:before {\n",
              "  /* Arrow on the left of the label */\n",
              "  content: \"▸\";\n",
              "  float: left;\n",
              "  margin-right: 0.25em;\n",
              "  color: var(--sklearn-color-icon);\n",
              "}\n",
              "\n",
              "#sk-container-id-2 label.sk-toggleable__label-arrow:hover:before {\n",
              "  color: var(--sklearn-color-text);\n",
              "}\n",
              "\n",
              "/* Toggleable content - dropdown */\n",
              "\n",
              "#sk-container-id-2 div.sk-toggleable__content {\n",
              "  max-height: 0;\n",
              "  max-width: 0;\n",
              "  overflow: hidden;\n",
              "  text-align: left;\n",
              "  /* unfitted */\n",
              "  background-color: var(--sklearn-color-unfitted-level-0);\n",
              "}\n",
              "\n",
              "#sk-container-id-2 div.sk-toggleable__content.fitted {\n",
              "  /* fitted */\n",
              "  background-color: var(--sklearn-color-fitted-level-0);\n",
              "}\n",
              "\n",
              "#sk-container-id-2 div.sk-toggleable__content pre {\n",
              "  margin: 0.2em;\n",
              "  border-radius: 0.25em;\n",
              "  color: var(--sklearn-color-text);\n",
              "  /* unfitted */\n",
              "  background-color: var(--sklearn-color-unfitted-level-0);\n",
              "}\n",
              "\n",
              "#sk-container-id-2 div.sk-toggleable__content.fitted pre {\n",
              "  /* unfitted */\n",
              "  background-color: var(--sklearn-color-fitted-level-0);\n",
              "}\n",
              "\n",
              "#sk-container-id-2 input.sk-toggleable__control:checked~div.sk-toggleable__content {\n",
              "  /* Expand drop-down */\n",
              "  max-height: 200px;\n",
              "  max-width: 100%;\n",
              "  overflow: auto;\n",
              "}\n",
              "\n",
              "#sk-container-id-2 input.sk-toggleable__control:checked~label.sk-toggleable__label-arrow:before {\n",
              "  content: \"▾\";\n",
              "}\n",
              "\n",
              "/* Pipeline/ColumnTransformer-specific style */\n",
              "\n",
              "#sk-container-id-2 div.sk-label input.sk-toggleable__control:checked~label.sk-toggleable__label {\n",
              "  color: var(--sklearn-color-text);\n",
              "  background-color: var(--sklearn-color-unfitted-level-2);\n",
              "}\n",
              "\n",
              "#sk-container-id-2 div.sk-label.fitted input.sk-toggleable__control:checked~label.sk-toggleable__label {\n",
              "  background-color: var(--sklearn-color-fitted-level-2);\n",
              "}\n",
              "\n",
              "/* Estimator-specific style */\n",
              "\n",
              "/* Colorize estimator box */\n",
              "#sk-container-id-2 div.sk-estimator input.sk-toggleable__control:checked~label.sk-toggleable__label {\n",
              "  /* unfitted */\n",
              "  background-color: var(--sklearn-color-unfitted-level-2);\n",
              "}\n",
              "\n",
              "#sk-container-id-2 div.sk-estimator.fitted input.sk-toggleable__control:checked~label.sk-toggleable__label {\n",
              "  /* fitted */\n",
              "  background-color: var(--sklearn-color-fitted-level-2);\n",
              "}\n",
              "\n",
              "#sk-container-id-2 div.sk-label label.sk-toggleable__label,\n",
              "#sk-container-id-2 div.sk-label label {\n",
              "  /* The background is the default theme color */\n",
              "  color: var(--sklearn-color-text-on-default-background);\n",
              "}\n",
              "\n",
              "/* On hover, darken the color of the background */\n",
              "#sk-container-id-2 div.sk-label:hover label.sk-toggleable__label {\n",
              "  color: var(--sklearn-color-text);\n",
              "  background-color: var(--sklearn-color-unfitted-level-2);\n",
              "}\n",
              "\n",
              "/* Label box, darken color on hover, fitted */\n",
              "#sk-container-id-2 div.sk-label.fitted:hover label.sk-toggleable__label.fitted {\n",
              "  color: var(--sklearn-color-text);\n",
              "  background-color: var(--sklearn-color-fitted-level-2);\n",
              "}\n",
              "\n",
              "/* Estimator label */\n",
              "\n",
              "#sk-container-id-2 div.sk-label label {\n",
              "  font-family: monospace;\n",
              "  font-weight: bold;\n",
              "  display: inline-block;\n",
              "  line-height: 1.2em;\n",
              "}\n",
              "\n",
              "#sk-container-id-2 div.sk-label-container {\n",
              "  text-align: center;\n",
              "}\n",
              "\n",
              "/* Estimator-specific */\n",
              "#sk-container-id-2 div.sk-estimator {\n",
              "  font-family: monospace;\n",
              "  border: 1px dotted var(--sklearn-color-border-box);\n",
              "  border-radius: 0.25em;\n",
              "  box-sizing: border-box;\n",
              "  margin-bottom: 0.5em;\n",
              "  /* unfitted */\n",
              "  background-color: var(--sklearn-color-unfitted-level-0);\n",
              "}\n",
              "\n",
              "#sk-container-id-2 div.sk-estimator.fitted {\n",
              "  /* fitted */\n",
              "  background-color: var(--sklearn-color-fitted-level-0);\n",
              "}\n",
              "\n",
              "/* on hover */\n",
              "#sk-container-id-2 div.sk-estimator:hover {\n",
              "  /* unfitted */\n",
              "  background-color: var(--sklearn-color-unfitted-level-2);\n",
              "}\n",
              "\n",
              "#sk-container-id-2 div.sk-estimator.fitted:hover {\n",
              "  /* fitted */\n",
              "  background-color: var(--sklearn-color-fitted-level-2);\n",
              "}\n",
              "\n",
              "/* Specification for estimator info (e.g. \"i\" and \"?\") */\n",
              "\n",
              "/* Common style for \"i\" and \"?\" */\n",
              "\n",
              ".sk-estimator-doc-link,\n",
              "a:link.sk-estimator-doc-link,\n",
              "a:visited.sk-estimator-doc-link {\n",
              "  float: right;\n",
              "  font-size: smaller;\n",
              "  line-height: 1em;\n",
              "  font-family: monospace;\n",
              "  background-color: var(--sklearn-color-background);\n",
              "  border-radius: 1em;\n",
              "  height: 1em;\n",
              "  width: 1em;\n",
              "  text-decoration: none !important;\n",
              "  margin-left: 1ex;\n",
              "  /* unfitted */\n",
              "  border: var(--sklearn-color-unfitted-level-1) 1pt solid;\n",
              "  color: var(--sklearn-color-unfitted-level-1);\n",
              "}\n",
              "\n",
              ".sk-estimator-doc-link.fitted,\n",
              "a:link.sk-estimator-doc-link.fitted,\n",
              "a:visited.sk-estimator-doc-link.fitted {\n",
              "  /* fitted */\n",
              "  border: var(--sklearn-color-fitted-level-1) 1pt solid;\n",
              "  color: var(--sklearn-color-fitted-level-1);\n",
              "}\n",
              "\n",
              "/* On hover */\n",
              "div.sk-estimator:hover .sk-estimator-doc-link:hover,\n",
              ".sk-estimator-doc-link:hover,\n",
              "div.sk-label-container:hover .sk-estimator-doc-link:hover,\n",
              ".sk-estimator-doc-link:hover {\n",
              "  /* unfitted */\n",
              "  background-color: var(--sklearn-color-unfitted-level-3);\n",
              "  color: var(--sklearn-color-background);\n",
              "  text-decoration: none;\n",
              "}\n",
              "\n",
              "div.sk-estimator.fitted:hover .sk-estimator-doc-link.fitted:hover,\n",
              ".sk-estimator-doc-link.fitted:hover,\n",
              "div.sk-label-container:hover .sk-estimator-doc-link.fitted:hover,\n",
              ".sk-estimator-doc-link.fitted:hover {\n",
              "  /* fitted */\n",
              "  background-color: var(--sklearn-color-fitted-level-3);\n",
              "  color: var(--sklearn-color-background);\n",
              "  text-decoration: none;\n",
              "}\n",
              "\n",
              "/* Span, style for the box shown on hovering the info icon */\n",
              ".sk-estimator-doc-link span {\n",
              "  display: none;\n",
              "  z-index: 9999;\n",
              "  position: relative;\n",
              "  font-weight: normal;\n",
              "  right: .2ex;\n",
              "  padding: .5ex;\n",
              "  margin: .5ex;\n",
              "  width: min-content;\n",
              "  min-width: 20ex;\n",
              "  max-width: 50ex;\n",
              "  color: var(--sklearn-color-text);\n",
              "  box-shadow: 2pt 2pt 4pt #999;\n",
              "  /* unfitted */\n",
              "  background: var(--sklearn-color-unfitted-level-0);\n",
              "  border: .5pt solid var(--sklearn-color-unfitted-level-3);\n",
              "}\n",
              "\n",
              ".sk-estimator-doc-link.fitted span {\n",
              "  /* fitted */\n",
              "  background: var(--sklearn-color-fitted-level-0);\n",
              "  border: var(--sklearn-color-fitted-level-3);\n",
              "}\n",
              "\n",
              ".sk-estimator-doc-link:hover span {\n",
              "  display: block;\n",
              "}\n",
              "\n",
              "/* \"?\"-specific style due to the `<a>` HTML tag */\n",
              "\n",
              "#sk-container-id-2 a.estimator_doc_link {\n",
              "  float: right;\n",
              "  font-size: 1rem;\n",
              "  line-height: 1em;\n",
              "  font-family: monospace;\n",
              "  background-color: var(--sklearn-color-background);\n",
              "  border-radius: 1rem;\n",
              "  height: 1rem;\n",
              "  width: 1rem;\n",
              "  text-decoration: none;\n",
              "  /* unfitted */\n",
              "  color: var(--sklearn-color-unfitted-level-1);\n",
              "  border: var(--sklearn-color-unfitted-level-1) 1pt solid;\n",
              "}\n",
              "\n",
              "#sk-container-id-2 a.estimator_doc_link.fitted {\n",
              "  /* fitted */\n",
              "  border: var(--sklearn-color-fitted-level-1) 1pt solid;\n",
              "  color: var(--sklearn-color-fitted-level-1);\n",
              "}\n",
              "\n",
              "/* On hover */\n",
              "#sk-container-id-2 a.estimator_doc_link:hover {\n",
              "  /* unfitted */\n",
              "  background-color: var(--sklearn-color-unfitted-level-3);\n",
              "  color: var(--sklearn-color-background);\n",
              "  text-decoration: none;\n",
              "}\n",
              "\n",
              "#sk-container-id-2 a.estimator_doc_link.fitted:hover {\n",
              "  /* fitted */\n",
              "  background-color: var(--sklearn-color-fitted-level-3);\n",
              "}\n",
              "</style><div id=\"sk-container-id-2\" class=\"sk-top-container\"><div class=\"sk-text-repr-fallback\"><pre>RandomForestRegressor(max_depth=22, max_features=None, n_estimators=723,\n",
              "                      random_state=42, verbose=1)</pre><b>In a Jupyter environment, please rerun this cell to show the HTML representation or trust the notebook. <br />On GitHub, the HTML representation is unable to render, please try loading this page with nbviewer.org.</b></div><div class=\"sk-container\" hidden><div class=\"sk-item\"><div class=\"sk-estimator fitted sk-toggleable\"><input class=\"sk-toggleable__control sk-hidden--visually\" id=\"sk-estimator-id-2\" type=\"checkbox\" checked><label for=\"sk-estimator-id-2\" class=\"sk-toggleable__label fitted sk-toggleable__label-arrow fitted\">&nbsp;&nbsp;RandomForestRegressor<a class=\"sk-estimator-doc-link fitted\" rel=\"noreferrer\" target=\"_blank\" href=\"https://scikit-learn.org/1.5/modules/generated/sklearn.ensemble.RandomForestRegressor.html\">?<span>Documentation for RandomForestRegressor</span></a><span class=\"sk-estimator-doc-link fitted\">i<span>Fitted</span></span></label><div class=\"sk-toggleable__content fitted\"><pre>RandomForestRegressor(max_depth=22, max_features=None, n_estimators=723,\n",
              "                      random_state=42, verbose=1)</pre></div> </div></div></div></div>"
            ]
          },
          "metadata": {},
          "execution_count": 50
        }
      ]
    },
    {
      "cell_type": "code",
      "source": [
        "# Evaluate the model on validation data\n",
        "y_val_pred = rf_model.predict(X_val_scaled)\n",
        "val_rmse = np.sqrt(mean_squared_error(y_val, y_val_pred))\n",
        "val_mae = mean_absolute_error(y_val, y_val_pred)\n",
        "\n",
        "print('Validation Results:')\n",
        "print(f'RMSE: {val_rmse}')\n",
        "print(f'MAE: {val_mae}')"
      ],
      "metadata": {
        "colab": {
          "base_uri": "https://localhost:8080/"
        },
        "id": "-Y5QxcZQ74Rh",
        "outputId": "25ac30c1-7d81-4f5d-c2e3-829c705e276d"
      },
      "execution_count": null,
      "outputs": [
        {
          "output_type": "stream",
          "name": "stdout",
          "text": [
            "Validation Results:\n",
            "RMSE: 2.1812031686099878\n",
            "MAE: 1.5649118787601084\n"
          ]
        },
        {
          "output_type": "stream",
          "name": "stderr",
          "text": [
            "[Parallel(n_jobs=1)]: Done  49 tasks      | elapsed:    0.0s\n",
            "[Parallel(n_jobs=1)]: Done 199 tasks      | elapsed:    0.0s\n",
            "[Parallel(n_jobs=1)]: Done 449 tasks      | elapsed:    0.1s\n"
          ]
        }
      ]
    },
    {
      "cell_type": "code",
      "source": [
        "# Testing part of your code remains the same, following the same preprocessing steps and predictions.\n",
        "\n",
        "test_file_path = '/content/knn_and_sorted_test.csv'\n",
        "df_test = pd.read_csv(test_file_path)\n",
        "\n",
        "df_test['DIST_A'] = haversine(df_test['LATITUDE'], df_test['LONGITUDE'], df_test['LATITUDE_A'], df_test['LONGITUDE_A'])\n",
        "df_test['DIST_B'] = haversine(df_test['LATITUDE'], df_test['LONGITUDE'], df_test['LATITUDE_B'], df_test['LONGITUDE_B'])\n",
        "df_test['DIST_C'] = haversine(df_test['LATITUDE'], df_test['LONGITUDE'], df_test['LATITUDE_C'], df_test['LONGITUDE_C'])\n",
        "\n",
        "# Scale the test data\n",
        "X_test_scaled = scaler.transform(df_test)"
      ],
      "metadata": {
        "colab": {
          "base_uri": "https://localhost:8080/"
        },
        "id": "-RAgkL6E74_R",
        "outputId": "afe511a8-437c-42f4-a852-4586e85ea2da"
      },
      "execution_count": null,
      "outputs": [
        {
          "output_type": "stream",
          "name": "stderr",
          "text": [
            "<ipython-input-11-22390d784fd5>:8: RuntimeWarning: invalid value encountered in sqrt\n",
            "  return 2 * R * np.arcsin(np.sqrt(a))\n",
            "<ipython-input-11-22390d784fd5>:8: RuntimeWarning: invalid value encountered in sqrt\n",
            "  return 2 * R * np.arcsin(np.sqrt(a))\n",
            "<ipython-input-11-22390d784fd5>:8: RuntimeWarning: invalid value encountered in sqrt\n",
            "  return 2 * R * np.arcsin(np.sqrt(a))\n"
          ]
        }
      ]
    },
    {
      "cell_type": "code",
      "source": [
        "# Predict on the test data\n",
        "y_test_pred = rf_model.predict(X_test_scaled)"
      ],
      "metadata": {
        "colab": {
          "base_uri": "https://localhost:8080/"
        },
        "id": "bAlmbxLX8Ary",
        "outputId": "83e74261-44ae-43a4-eff7-17806e9e7312"
      },
      "execution_count": null,
      "outputs": [
        {
          "output_type": "stream",
          "name": "stderr",
          "text": [
            "[Parallel(n_jobs=1)]: Done  49 tasks      | elapsed:    0.0s\n",
            "[Parallel(n_jobs=1)]: Done 199 tasks      | elapsed:    0.0s\n",
            "[Parallel(n_jobs=1)]: Done 449 tasks      | elapsed:    0.0s\n"
          ]
        }
      ]
    },
    {
      "cell_type": "code",
      "execution_count": null,
      "metadata": {
        "id": "X2tbTLYbxA93"
      },
      "outputs": [],
      "source": [
        "# Add the predicted TAVG as a new column to the original test DataFrame\n",
        "df_test['TAVG'] = y_test_pred\n",
        "\n",
        "# Save the updated test DataFrame with only index and TAVG columns\n",
        "df_output = df_test[['TAVG']]  # Select only the 'TAVG' column"
      ]
    },
    {
      "cell_type": "code",
      "source": [
        "output_file_path = '/content/test_with_predicted_TAVG.csv'\n",
        "df_output.to_csv(output_file_path, index=True, index_label='INDEX')  # Save with index as 'INDEX' column"
      ],
      "metadata": {
        "id": "TQtyE8dN8bbV"
      },
      "execution_count": null,
      "outputs": []
    }
  ]
}